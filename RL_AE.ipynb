{
 "cells": [
  {
   "cell_type": "code",
   "execution_count": 1,
   "id": "3db24634",
   "metadata": {},
   "outputs": [
    {
     "data": {
      "text/plain": [
       "<torch._C.Generator at 0x1825829a590>"
      ]
     },
     "execution_count": 1,
     "metadata": {},
     "output_type": "execute_result"
    }
   ],
   "source": [
    "import sys\n",
    "assert sys.version_info >= (3, 5)\n",
    "import numpy as np\n",
    "import matplotlib.pyplot as plt\n",
    "import matplotlib as mpl\n",
    "import pandas as pd\n",
    "from scipy import special\n",
    "import torch\n",
    "import torch.nn as nn\n",
    "import torch.nn.functional as F\n",
    "import torch.optim as optim\n",
    "#import torchvision.transforms as transforms\n",
    "from torch.utils.data import DataLoader, Dataset\n",
    "from tqdm.notebook import tqdm\n",
    "import torch_utils\n",
    "\n",
    "mpl.rc('axes', labelsize=14)\n",
    "mpl.rc('xtick', labelsize=12)\n",
    "mpl.rc('ytick', labelsize=12)\n",
    "\n",
    "# Set random seeds\n",
    "np.random.seed(42)\n",
    "torch.manual_seed(42)"
   ]
  },
  {
   "cell_type": "code",
   "execution_count": 2,
   "id": "3d8e71ed",
   "metadata": {},
   "outputs": [],
   "source": [
    "M = 16\n",
    "k = int(np.log2(M))\n",
    "n = 1\n",
    "TRAINING_SNR = 10\n",
    "one_hot = False\n",
    "sigma_pi = np.sqrt(0.02)\n",
    "\n",
    "device = torch.device(\"cuda:0\" if torch.cuda.is_available() else \"cpu\")"
   ]
  },
  {
   "cell_type": "code",
   "execution_count": 3,
   "id": "b6a04594",
   "metadata": {},
   "outputs": [],
   "source": [
    "def EbNo_to_noise(ebnodb):\n",
    "    '''Transform EbNo[dB]/snr to noise power'''\n",
    "    ebno = 10**(ebnodb/10)\n",
    "    noise_std = 1/np.sqrt(2*(k/n)*ebno) \n",
    "    return noise_std\n",
    "\n",
    "def SNR_to_noise(snrdb):\n",
    "    '''Transform EbNo[dB]/snr to noise power'''\n",
    "    snr = 10**(snrdb/10)\n",
    "    noise_std = 1/np.sqrt(2*snr)\n",
    "    return noise_std"
   ]
  },
  {
   "cell_type": "code",
   "execution_count": 4,
   "id": "69d69971",
   "metadata": {},
   "outputs": [],
   "source": [
    "class AWGNChannelLayer(nn.Module):\n",
    "    def __init__(self, noise_std):\n",
    "        super().__init__()\n",
    "        self.noise_std = noise_std\n",
    "\n",
    "    def forward(self, x):\n",
    "        noise = torch.randn_like(x) * self.noise_std\n",
    "        return x + noise\n",
    "\n",
    "\n",
    "class Encoder(nn.Module):\n",
    "    def __init__(self, M, n, one_hot=True):\n",
    "        super().__init__()\n",
    "        self.one_hot = one_hot\n",
    "        if not one_hot:\n",
    "            self.embedding = nn.Embedding(M, M)\n",
    "        self.fc1 = nn.Linear(M, M)\n",
    "        self.fc2 = nn.Linear(M, 2 * n)\n",
    "        \n",
    "    def power_constraint(self, codes):\n",
    "        codes_mean = torch.mean(codes)\n",
    "        codes_std  = torch.std(codes)\n",
    "        codes_norm = (codes-codes_mean)/ codes_std\n",
    "        \n",
    "        return codes_norm\n",
    "\n",
    "    def forward(self, x):\n",
    "        if not self.one_hot:\n",
    "            x = self.embedding(x)\n",
    "        x = F.elu(self.fc1(x))\n",
    "        x = self.fc2(x)\n",
    "        x = x.view(-1, 2, n)\n",
    "        x = self.power_constraint(x)\n",
    "        return x\n",
    "\n",
    "class Decoder(nn.Module):\n",
    "    def __init__(self, M, n):\n",
    "        super().__init__()\n",
    "        self.fc1 = nn.Linear(2 * n, M)\n",
    "        self.fc2 = nn.Linear(M, M)\n",
    "\n",
    "    def forward(self, x):\n",
    "        x = x.view(-1, 2 * n)\n",
    "        x = F.elu(self.fc1(x))\n",
    "        x = self.fc2(x)\n",
    "        return x\n",
    "\n",
    "\n",
    "noise_std = EbNo_to_noise(TRAINING_SNR)  # Assuming the function is defined\n",
    "\n",
    "channel = AWGNChannelLayer(noise_std).to(device)"
   ]
  },
  {
   "cell_type": "code",
   "execution_count": 5,
   "id": "5cfeaa23",
   "metadata": {},
   "outputs": [],
   "source": [
    "def policy_function(x_pert, x_enc, sigma_pi):\n",
    "    sigma_pi = torch.as_tensor(sigma_pi)\n",
    "    x_scaled = x_enc * torch.sqrt(1.0 - sigma_pi**2)\n",
    "    policy = -(1 / sigma_pi**2) * torch.norm(x_pert - x_scaled, dim=1)**2\n",
    "    return policy\n",
    "\n",
    "def perturbation(x, sigma_pi):\n",
    "    x = torch.as_tensor(x)\n",
    "    sigma_pi = torch.as_tensor(sigma_pi)\n",
    "    x_scaled = x * torch.sqrt(1 - sigma_pi**2)\n",
    "    z = torch.randn_like(x) * sigma_pi\n",
    "    return x_scaled + z"
   ]
  },
  {
   "cell_type": "code",
   "execution_count": 6,
   "id": "33fa1b1a",
   "metadata": {},
   "outputs": [],
   "source": [
    "def B_Ber_m(input_msg, msg, one_hot):\n",
    "    '''Calculate the Batch Bit/Symbol Error Rate'''\n",
    "    batch_size = input_msg.shape[0]\n",
    "    \n",
    "    if one_hot:\n",
    "        pred_error = torch.ne(torch.argmax(msg, dim=1), torch.argmax(input_msg, dim=1))\n",
    "    else:\n",
    "        pred_error = torch.ne(input_msg.view(-1, batch_size), torch.argmax(msg, dim=1))\n",
    "    \n",
    "    bber = torch.mean(pred_error.float())\n",
    "    return bber"
   ]
  },
  {
   "cell_type": "code",
   "execution_count": 7,
   "id": "b159f77d",
   "metadata": {},
   "outputs": [],
   "source": [
    "def random_sample(batch_size=32):\n",
    "    if one_hot:\n",
    "        msg = torch.eye(M)[torch.randint(high=M, size=(batch_size,))]\n",
    "    else:\n",
    "        msg = torch.randint(low=0, high=M, size=(batch_size,1))\n",
    "        \n",
    "    return msg"
   ]
  },
  {
   "cell_type": "code",
   "execution_count": 8,
   "id": "4e396085",
   "metadata": {},
   "outputs": [],
   "source": [
    "def test_encoding(encoder, M=16, n=1):\n",
    "    if one_hot:\n",
    "        inp = torch.eye(M).to(device)\n",
    "    else:\n",
    "        inp = torch.arange(0,M).to(device)\n",
    "    coding = encoder(inp)\n",
    "    coding = coding.cpu().detach().numpy()\n",
    "    fig = plt.figure(figsize=(2,2))\n",
    "    plt.plot(coding[:,0], coding[:, 1], \"b.\")\n",
    "    plt.xlabel(\"$x_1$\", fontsize=18)\n",
    "    plt.ylabel(\"$x_2$\", fontsize=18, rotation=0)\n",
    "    plt.grid(True)\n",
    "    plt.gca().set_ylim(-2, 2)\n",
    "    plt.gca().set_xlim(-2, 2)\n",
    "    plt.show()"
   ]
  },
  {
   "cell_type": "code",
   "execution_count": 9,
   "id": "1ffd7e81",
   "metadata": {},
   "outputs": [],
   "source": [
    "def categorical_crossentropy_loss(y_pred, y_true):\n",
    "    return F.cross_entropy(y_pred, y_true)\n",
    "\n",
    "def categorical_crossentropy_loss_pE(y_pred, y_true):\n",
    "    return F.cross_entropy(y_pred, y_true, reduction='none')\n",
    "\n",
    "def sparse_categorical_crossentropy_loss(y_pred, y_true):\n",
    "    return F.cross_entropy(y_pred, y_true)\n",
    "\n",
    "def sparse_categorical_crossentropy_loss_pE(y_pred, y_true):\n",
    "    return F.cross_entropy(y_pred, y_true, reduction='none')\n",
    "\n",
    "if one_hot:\n",
    "    loss_fn = categorical_crossentropy_loss\n",
    "    loss_fn_pE = categorical_crossentropy_loss_pE\n",
    "else:\n",
    "    loss_fn_pE = sparse_categorical_crossentropy_loss_pE\n",
    "    loss_fn = sparse_categorical_crossentropy_loss\n",
    "    \n",
    "class RunningMean:\n",
    "    \"\"\"Class to calculate the running mean of a value.\"\"\"\n",
    "\n",
    "    def __init__(self):\n",
    "        self.count = 0\n",
    "        self.mean = 0\n",
    "\n",
    "    def update(self, value):\n",
    "        self.mean = (self.count * self.mean + value) / (self.count + 1)\n",
    "        self.count += 1\n",
    "\n",
    "    def reset(self):\n",
    "        self.count = 0\n",
    "        self.mean = 0\n"
   ]
  },
  {
   "cell_type": "code",
   "execution_count": 10,
   "id": "7554eaa5",
   "metadata": {},
   "outputs": [],
   "source": [
    "def train_alternate_RL(encoder, decoder, channel, loss_fn, loss_fn_pE, policy_function, perturbation, random_sample, n_epochs=5, n_steps=20, batch_size=200, learning_rate=0.05, plot_encoding=False):\n",
    "    optimizer_en = optim.Adam(encoder.parameters(), lr=learning_rate)\n",
    "    optimizer_de = optim.Adam(decoder.parameters(), lr=learning_rate)\n",
    "    \n",
    "    for epoch in range(1, n_epochs + 1):\n",
    "        print(\"Training Bob in Epoch {}/{}\".format(epoch, n_epochs))\n",
    "        progress_bar = tqdm(range(1, n_steps + 1), desc=\"Training\")\n",
    "        \n",
    "        for step in progress_bar:\n",
    "            X_batch = random_sample(batch_size).to(device)\n",
    "            X_batch = X_batch.squeeze()\n",
    "            optimizer_de.zero_grad()\n",
    "\n",
    "            x_enc = encoder(X_batch)\n",
    "            y_recv = channel(x_enc)\n",
    "            y_pred = decoder(y_recv)\n",
    "            loss_dec = loss_fn(y_pred, X_batch)\n",
    "\n",
    "            loss_dec.backward()\n",
    "            optimizer_de.step()\n",
    "\n",
    "            # Draw another sample, as in the paper\n",
    "            X_batch = random_sample(batch_size).to(device)\n",
    "            X_batch = X_batch.squeeze()\n",
    "            optimizer_en.zero_grad()\n",
    "\n",
    "            x_enc = encoder(X_batch)\n",
    "            x_enc = x_enc.view(-1, 2 * n)\n",
    "            x_pert = perturbation(x_enc, sigma_pi)\n",
    "            x_pert_s = x_pert.view(-1, 2, n)\n",
    "            y_recv = channel(x_pert_s)\n",
    "            y_pred = decoder(y_recv)\n",
    "\n",
    "            loss = loss_fn_pE(y_pred, X_batch)\n",
    "            policy = policy_function(x_pert.detach(), x_enc, sigma_pi)\n",
    "            temp = (loss.detach() * policy).mean()\n",
    "            temp.backward()\n",
    "\n",
    "            optimizer_en.step()\n",
    "            loss_cr = loss.mean().item()\n",
    "            BER = B_Ber_m(X_batch, y_pred, one_hot).item()\n",
    "\n",
    "            progress_bar.set_postfix(epoch=epoch, loss=loss_cr, BER=BER)\n",
    "            \n",
    "        if plot_encoding:\n",
    "            test_encoding(encoder, M, n)"
   ]
  },
  {
   "cell_type": "code",
   "execution_count": 11,
   "id": "736d5c3c",
   "metadata": {},
   "outputs": [],
   "source": [
    "def train_alternate(encoder, decoder, channel, loss_fn, loss_fn_pE, policy_function, perturbation, random_sample, n_epochs=5, n_steps=20, batch_size=200, learning_rate=0.05, plot_encoding=False):\n",
    "    optimizer_en = optim.Adam(encoder.parameters(), lr=learning_rate)\n",
    "    optimizer_de = optim.Adam(decoder.parameters(), lr=learning_rate)\n",
    "\n",
    "    loss_history = []\n",
    "\n",
    "    for epoch in range(1, n_epochs + 1):\n",
    "        print(\"Training Bob in Epoch {}/{}\".format(epoch, n_epochs))\n",
    "        progress_bar = tqdm(range(1, n_steps + 1), desc=\"Training\")\n",
    "        \n",
    "        for step in progress_bar:\n",
    "            X_batch = random_sample(batch_size).to(device)\n",
    "            X_batch = X_batch.squeeze()\n",
    "            optimizer_de.zero_grad()\n",
    "\n",
    "            x_enc = encoder(X_batch)\n",
    "            y_recv = channel(x_enc)\n",
    "            y_pred = decoder(y_recv)\n",
    "            loss_dec = loss_fn(y_pred, X_batch)\n",
    "\n",
    "            loss_dec.backward()\n",
    "            optimizer_de.step()\n",
    "\n",
    "            X_batch = random_sample(batch_size).to(device)\n",
    "            X_batch = X_batch.squeeze()\n",
    "            optimizer_en.zero_grad()\n",
    "\n",
    "            x_enc = encoder(X_batch)\n",
    "\n",
    "            y_recv = channel(x_enc)\n",
    "            y_pred = decoder(y_recv)\n",
    "            \n",
    "            loss = loss_fn(y_pred, X_batch)\n",
    "            loss.backward()\n",
    "\n",
    "            optimizer_en.step()\n",
    "            loss_cr = loss.mean().item()\n",
    "            BER = B_Ber_m(X_batch, y_pred, one_hot).item()\n",
    "\n",
    "            progress_bar.set_postfix(epoch=epoch, loss=loss_cr, BER=BER)\n",
    "\n",
    "        if plot_encoding:\n",
    "            test_encoding(encoder, M, n)"
   ]
  },
  {
   "cell_type": "code",
   "execution_count": 12,
   "id": "4023a496",
   "metadata": {},
   "outputs": [],
   "source": [
    "def Test_AE(encoder, decoder, random_sample, B_Ber_m):\n",
    "    '''Calculate Bit Error for varying SNRs'''\n",
    "    snr_range = np.linspace(0, 15, 31)\n",
    "    bber_vec = [None] * len(snr_range)\n",
    "    progress_bar = tqdm(range(len(snr_range)), desc=\"Testing\")\n",
    "    mean = RunningMean()\n",
    "\n",
    "    for db in progress_bar:\n",
    "        bber = None\n",
    "        for it in range(1, 500*db):\n",
    "            noise_std = EbNo_to_noise(snr_range[db])\n",
    "            X_batch = random_sample(1000).to(device)\n",
    "            code_word = encoder(X_batch)\n",
    "            rcvd_word = code_word + torch.randn_like(code_word).to(device) * noise_std\n",
    "            dcoded_msg = decoder(rcvd_word)\n",
    "            bber = B_Ber_m(X_batch, dcoded_msg, one_hot)\n",
    "            mean.update(bber.cpu().detach().numpy())\n",
    "\n",
    "            progress_bar.set_postfix(DB=snr_range[db], BER=mean.mean)\n",
    "\n",
    "        bber_vec[db] = mean.mean\n",
    "        mean.reset()\n",
    "\n",
    "    return (snr_range, bber_vec)"
   ]
  },
  {
   "cell_type": "code",
   "execution_count": 13,
   "id": "1e586cd9-4daf-4917-bcb0-a915713c4a6f",
   "metadata": {},
   "outputs": [],
   "source": [
    "import seaborn as sns\n",
    "import matplotlib.pyplot as plt\n",
    "\n",
    "def plot_snr_ber(array_1, array_2):\n",
    "    \"\"\"\n",
    "    Plots SNR vs. BER for two arrays using Seaborn.\n",
    "    \"\"\"\n",
    "\n",
    "    # Unpack the data from the input tuples\n",
    "    snr_1, ber_1 = array_1\n",
    "    snr_2, ber_2 = array_2\n",
    "\n",
    "    # Detach the BER tensors and convert to NumPy arrays\n",
    "    #ber_1 = [ber.cpu().detach().numpy() for ber in ber_1]\n",
    "    #ber_2 = [ber.cpu().detach().numpy() for ber in ber_2]\n",
    "    \n",
    "    # Flatten the BER data\n",
    "    ber_1 = np.ravel(ber_1)\n",
    "    ber_2 = np.ravel(ber_2)\n",
    "    \n",
    "    # Filter out zero and negative BER values\n",
    "    snr_1 = snr_1[ber_1 > 0]\n",
    "    ber_1 = ber_1[ber_1 > 0]\n",
    "    snr_2 = snr_2[ber_2 > 0]\n",
    "    ber_2 = ber_2[ber_2 > 0]\n",
    "\n",
    "    # Create plot\n",
    "    sns.set_style(\"whitegrid\")\n",
    "    fig, ax = plt.subplots(figsize=(8, 6))\n",
    "    ax.set_yscale('log')\n",
    "    ax.set_xlim((snr_1.min(), snr_1.max()))\n",
    "    sns.lineplot(x=snr_1, y=ber_1, label=\"RL\", marker='o', markersize=6, ax=ax)\n",
    "    sns.lineplot(x=snr_2, y=ber_2, label=\"AE\", marker='s', markersize=6, ax=ax)\n",
    "    ax.grid(which='both', linestyle=':', alpha=0.5)\n",
    "\n",
    "    # Set labels and legend\n",
    "    ax.set_xlabel(\"EbN0\")\n",
    "    ax.set_ylabel(\"BER\")\n",
    "    ax.set_title(\"SNR vs. BER\")\n",
    "    ax.legend()\n",
    "\n",
    "    plt.show()"
   ]
  },
  {
   "cell_type": "code",
   "execution_count": 14,
   "id": "1f8cad9b",
   "metadata": {},
   "outputs": [
    {
     "name": "stdout",
     "output_type": "stream",
     "text": [
      "Training Bob in Epoch 1/3\n"
     ]
    },
    {
     "data": {
      "application/vnd.jupyter.widget-view+json": {
       "model_id": "856bb60953704f7bb25bb01912844c9f",
       "version_major": 2,
       "version_minor": 0
      },
      "text/plain": [
       "Training:   0%|          | 0/500 [00:00<?, ?it/s]"
      ]
     },
     "metadata": {},
     "output_type": "display_data"
    },
    {
     "name": "stdout",
     "output_type": "stream",
     "text": [
      "Training Bob in Epoch 2/3\n"
     ]
    },
    {
     "data": {
      "application/vnd.jupyter.widget-view+json": {
       "model_id": "caa7521b41ed408099f365f6e03e7b1e",
       "version_major": 2,
       "version_minor": 0
      },
      "text/plain": [
       "Training:   0%|          | 0/500 [00:00<?, ?it/s]"
      ]
     },
     "metadata": {},
     "output_type": "display_data"
    },
    {
     "name": "stdout",
     "output_type": "stream",
     "text": [
      "Training Bob in Epoch 3/3\n"
     ]
    },
    {
     "data": {
      "application/vnd.jupyter.widget-view+json": {
       "model_id": "5e403ffc311d422d808e6397a359014a",
       "version_major": 2,
       "version_minor": 0
      },
      "text/plain": [
       "Training:   0%|          | 0/500 [00:00<?, ?it/s]"
      ]
     },
     "metadata": {},
     "output_type": "display_data"
    },
    {
     "data": {
      "image/png": "[encoded data removed]",
      "text/plain": [
       "<Figure size 200x200 with 1 Axes>"
      ]
     },
     "metadata": {},
     "output_type": "display_data"
    },
    {
     "name": "stdout",
     "output_type": "stream",
     "text": [
      "Training Bob in Epoch 1/3\n"
     ]
    },
    {
     "data": {
      "application/vnd.jupyter.widget-view+json": {
       "model_id": "f27c2ab692cf4eafba677a62db6e1d3e",
       "version_major": 2,
       "version_minor": 0
      },
      "text/plain": [
       "Training:   0%|          | 0/500 [00:00<?, ?it/s]"
      ]
     },
     "metadata": {},
     "output_type": "display_data"
    },
    {
     "name": "stdout",
     "output_type": "stream",
     "text": [
      "Training Bob in Epoch 2/3\n"
     ]
    },
    {
     "data": {
      "application/vnd.jupyter.widget-view+json": {
       "model_id": "aeba53b325094384a57be4dc8e14fe0e",
       "version_major": 2,
       "version_minor": 0
      },
      "text/plain": [
       "Training:   0%|          | 0/500 [00:00<?, ?it/s]"
      ]
     },
     "metadata": {},
     "output_type": "display_data"
    },
    {
     "name": "stdout",
     "output_type": "stream",
     "text": [
      "Training Bob in Epoch 3/3\n"
     ]
    },
    {
     "data": {
      "application/vnd.jupyter.widget-view+json": {
       "model_id": "824c074e156f45e1a4db66ff29006d88",
       "version_major": 2,
       "version_minor": 0
      },
      "text/plain": [
       "Training:   0%|          | 0/500 [00:00<?, ?it/s]"
      ]
     },
     "metadata": {},
     "output_type": "display_data"
    },
    {
     "data": {
      "image/png": "[encoded data removed]",
      "text/plain": [
       "<Figure size 200x200 with 1 Axes>"
      ]
     },
     "metadata": {},
     "output_type": "display_data"
    }
   ],
   "source": [
    "channel = AWGNChannelLayer(noise_std).to(device)\n",
    "\n",
    "encoder_RL = Encoder(M, n, one_hot).to(device)\n",
    "decoder_RL = Decoder(M, n).to(device)\n",
    "\n",
    "encoder_AE = Encoder(M, n, one_hot).to(device)\n",
    "decoder_AE = Decoder(M, n).to(device)\n",
    "\n",
    "train_alternate_RL(encoder_RL, decoder_RL, channel, loss_fn, loss_fn_pE, policy_function, perturbation, random_sample,n_epochs=3, n_steps=500, batch_size=500, learning_rate=0.005,plot_encoding=False)\n",
    "test_encoding(encoder_RL, M, n)\n",
    "\n",
    "train_alternate(encoder_AE, decoder_AE, channel, loss_fn, loss_fn_pE, policy_function, perturbation, random_sample,n_epochs=3, n_steps=500, batch_size=500, learning_rate=0.005,plot_encoding=False)\n",
    "test_encoding(encoder_AE, M, n)"
   ]
  },
  {
   "cell_type": "code",
   "execution_count": 15,
   "id": "0935fa48",
   "metadata": {},
   "outputs": [
    {
     "data": {
      "application/vnd.jupyter.widget-view+json": {
       "model_id": "e071b163417443799e07cb618b6af34c",
       "version_major": 2,
       "version_minor": 0
      },
      "text/plain": [
       "Testing:   0%|          | 0/31 [00:00<?, ?it/s]"
      ]
     },
     "metadata": {},
     "output_type": "display_data"
    },
    {
     "data": {
      "application/vnd.jupyter.widget-view+json": {
       "model_id": "ebba6f54e130482fa470001c4e3775dc",
       "version_major": 2,
       "version_minor": 0
      },
      "text/plain": [
       "Testing:   0%|          | 0/31 [00:00<?, ?it/s]"
      ]
     },
     "metadata": {},
     "output_type": "display_data"
    }
   ],
   "source": [
    "output_RL = Test_AE(encoder_RL, decoder_RL, random_sample, B_Ber_m)\n",
    "output_AE = Test_AE(encoder_AE, decoder_AE, random_sample, B_Ber_m)"
   ]
  },
  {
   "cell_type": "code",
   "execution_count": 16,
   "id": "dee850ce-a623-412e-9b37-c1436f162046",
   "metadata": {},
   "outputs": [
    {
     "data": {
      "image/png": "[encoded data removed]",
      "text/plain": [
       "<Figure size 800x600 with 1 Axes>"
      ]
     },
     "metadata": {},
     "output_type": "display_data"
    }
   ],
   "source": [
    "plot_snr_ber(output_RL, output_AE)"
   ]
  },
  {
   "cell_type": "code",
   "execution_count": null,
   "id": "ba43cd9d-6af9-4279-9e27-b1c7fe7d8b8d",
   "metadata": {},
   "outputs": [],
   "source": []
  }
 ],
 "metadata": {
  "kernelspec": {
   "display_name": "Python 3 (ipykernel)",
   "language": "python",
   "name": "python3"
  },
  "language_info": {
   "codemirror_mode": {
    "name": "ipython",
    "version": 3
   },
   "file_extension": ".py",
   "mimetype": "text/x-python",
   "name": "python",
   "nbconvert_exporter": "python",
   "pygments_lexer": "ipython3",
   "version": "3.10.11"
  }
 },
 "nbformat": 4,
 "nbformat_minor": 5
}
