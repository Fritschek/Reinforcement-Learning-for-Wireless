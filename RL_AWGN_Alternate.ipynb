{
 "cells": [
  {
   "cell_type": "code",
   "execution_count": 1,
   "metadata": {},
   "outputs": [],
   "source": [
    "import sys\n",
    "assert sys.version_info >= (3, 5)\n",
    "import numpy as np\n",
    "%matplotlib inline\n",
    "import matplotlib as mpl\n",
    "import matplotlib.pyplot as plt\n",
    "mpl.rc('axes', labelsize=14)\n",
    "mpl.rc('xtick', labelsize=12)\n",
    "mpl.rc('ytick', labelsize=12)\n",
    "import tensorflow as tf\n",
    "from tensorflow import keras\n",
    "import pandas as pd\n",
    "from scipy import special\n",
    "from tensorflow.keras import layers\n",
    "np.random.seed(42)\n",
    "tf.random.set_seed(42)"
   ]
  },
  {
   "cell_type": "code",
   "execution_count": 2,
   "metadata": {},
   "outputs": [],
   "source": [
    "M = 16\n",
    "k = int(np.log2(M))\n",
    "n = 1\n",
    "TRAINING_SNR = 10\n",
    "one_hot = False\n",
    "sigma_pi = np.sqrt(0.02)"
   ]
  },
  {
   "cell_type": "code",
   "execution_count": 3,
   "metadata": {},
   "outputs": [],
   "source": [
    "def EbNo_to_noise(ebnodb):\n",
    "    '''Transform EbNo[dB]/snr to noise power'''\n",
    "    ebno = 10**(ebnodb/10)\n",
    "    noise_std = 1/np.sqrt(2*(k/n)*ebno) \n",
    "    return noise_std\n",
    "\n",
    "def SNR_to_noise(snrdb):\n",
    "    '''Transform EbNo[dB]/snr to noise power'''\n",
    "    snr = 10**(snrdb/10)\n",
    "    noise_std = 1/np.sqrt(2*snr)\n",
    "    return noise_std"
   ]
  },
  {
   "cell_type": "code",
   "execution_count": 4,
   "metadata": {},
   "outputs": [],
   "source": [
    "noise_std = EbNo_to_noise(TRAINING_SNR)\n",
    "\n",
    "# custom functions / layers without weights\n",
    "norm_layer = keras.layers.Lambda(lambda x: tf.divide(x, tf.sqrt(2*tf.reduce_mean(tf.square(x)))))\n",
    "shape_layer = keras.layers.Lambda(lambda x: tf.reshape(x, shape=[-1,2,n]))\n",
    "shape_layer2 = keras.layers.Lambda(lambda x: tf.reshape(x, shape=[-1,2*n]))\n",
    "AWGN_channel_layer = keras.layers.Lambda(lambda x: x + tf.random.normal(tf.shape(x), mean=0.0, stddev=noise_std))\n",
    "\n",
    "if one_hot:\n",
    "    encoder_input = keras.layers.InputLayer(input_shape=[M])\n",
    "else: \n",
    "    encoder_input = keras.layers.Embedding(M, M, embeddings_initializer='glorot_normal', input_length=1)\n",
    "\n",
    "encoder = keras.models.Sequential([\n",
    "            encoder_input,\n",
    "            keras.layers.Dense(M, activation=\"elu\"),\n",
    "            keras.layers.Dense(2*n, activation=None),\n",
    "            shape_layer,\n",
    "            norm_layer])\n",
    "\n",
    "channel = keras.models.Sequential([AWGN_channel_layer])\n",
    "\n",
    "decoder = keras.models.Sequential([\n",
    "                keras.layers.InputLayer(input_shape=[2,n]),\n",
    "                shape_layer2,\n",
    "                keras.layers.Dense(M, activation=\"elu\"),\n",
    "                keras.layers.Dense(M, activation=\"softmax\")\n",
    "                ])\n",
    "\n",
    "\n",
    "autoencoder = keras.models.Sequential([encoder, channel, decoder])"
   ]
  },
  {
   "cell_type": "code",
   "execution_count": 5,
   "metadata": {},
   "outputs": [],
   "source": [
    "def policy_function(x_pert, x_enc):  \n",
    "    x_scaled = x_enc*tf.cast(tf.sqrt(1.-sigma_pi**2), tf.float32)\n",
    "    policy = -(1/sigma_pi**2)*tf.norm(x_pert - x_scaled, axis=1)**2\n",
    "    #pulled the log inside, front factor vanishes for gradient\n",
    "    #policy = (1./ (np.pi*(sigma_pi**2))**n)*tf.exp(-eu_norm / (sigma_pi**2))\n",
    "    return policy\n",
    "\n",
    "def perturbation(x):\n",
    "    x_scaled = x * tf.cast(tf.sqrt(1-sigma_pi**2), tf.float32)\n",
    "    z = tf.random.normal(tf.shape(x), mean=0.0, stddev=sigma_pi)\n",
    "    return x_scaled + z"
   ]
  },
  {
   "cell_type": "code",
   "execution_count": 6,
   "metadata": {},
   "outputs": [],
   "source": [
    "def B_Ber_m(input_msg, msg):\n",
    "    '''Calculate the Batch Bit/Symbol Error Rate'''\n",
    "    batch_size = input_msg.shape[0]\n",
    "    if one_hot:\n",
    "        pred_error = tf.not_equal(tf.argmax(msg, 1), tf.argmax(input_msg, 1)) \n",
    "    else:\n",
    "        pred_error = tf.not_equal(tf.reshape(input_msg, shape=(-1,batch_size)), tf.argmax(msg, 1)) \n",
    "    \n",
    "    bber = tf.reduce_mean(tf.cast(pred_error, tf.float32))\n",
    "    return bber"
   ]
  },
  {
   "cell_type": "code",
   "execution_count": 7,
   "metadata": {},
   "outputs": [],
   "source": [
    "def random_sample(batch_size=32):\n",
    "    if one_hot:\n",
    "        msg = np.eye(M)[np.random.choice(M, batch_size)]\n",
    "    else:\n",
    "        msg = np.random.randint(M, size=(batch_size,1))\n",
    "    \n",
    "    return msg"
   ]
  },
  {
   "cell_type": "code",
   "execution_count": 8,
   "metadata": {},
   "outputs": [],
   "source": [
    "def test_encoding(M=16, n=1):\n",
    "    if one_hot:\n",
    "        inp = np.eye(M)\n",
    "    else:\n",
    "        inp = np.arange(0,M)\n",
    "    coding = encoder.predict(inp)\n",
    "    fig = plt.figure(figsize=(4,4))\n",
    "    plt.plot(coding[:,0], coding[:, 1], \"b.\")\n",
    "    plt.xlabel(\"$x_1$\", fontsize=18)\n",
    "    plt.ylabel(\"$x_2$\", fontsize=18, rotation=0)\n",
    "    plt.grid(True)\n",
    "    plt.gca().set_ylim(-2, 2)\n",
    "    plt.gca().set_xlim(-2, 2)\n",
    "    plt.show()"
   ]
  },
  {
   "cell_type": "code",
   "execution_count": 9,
   "metadata": {},
   "outputs": [],
   "source": [
    "def test_noisy_codeword(batch_size):\n",
    "    X_batch  = random_sample(batch_size)\n",
    "    x_enc = encoder(X_batch)\n",
    "    y_recv = channel(x_enc)\n",
    "    fig = plt.figure(figsize=(4,4))\n",
    "    plt.plot(y_recv[:,0], y_recv[:, 1], \"b.\")\n",
    "    plt.xlabel(\"$x_1$\", fontsize=18)\n",
    "    plt.ylabel(\"$x_2$\", fontsize=18, rotation=0)\n",
    "    plt.grid(True)\n",
    "    plot_max = np.max(np.abs(y_recv))\n",
    "    plt.gca().set_ylim(-plot_max, plot_max)\n",
    "    plt.gca().set_xlim(-plot_max, plot_max)\n",
    "    plt.show()"
   ]
  },
  {
   "cell_type": "code",
   "execution_count": 10,
   "metadata": {},
   "outputs": [],
   "source": [
    "if one_hot:\n",
    "    loss_fn = keras.losses.CategoricalCrossentropy()\n",
    "    loss_fn_pE = keras.losses.CategoricalCrossentropy(reduction=tf.keras.losses.Reduction.NONE)\n",
    "else:\n",
    "    loss_fn_pE = keras.losses.SparseCategoricalCrossentropy(reduction=tf.keras.losses.Reduction.NONE)\n",
    "    loss_fn = keras.losses.SparseCategoricalCrossentropy()\n",
    "\n",
    "mean_loss = keras.metrics.Mean()"
   ]
  },
  {
   "cell_type": "code",
   "execution_count": 11,
   "metadata": {},
   "outputs": [],
   "source": [
    "def plot_loss(step, epoch, mean_loss, X_batch, y_pred, plot_encoding):\n",
    "    template = 'Iteration: {}, Epoch: {}, Loss: {:.5f}, Batch_BER: {:.8f}'\n",
    "    if step % 10 == 0:\n",
    "        print(template.format(step, epoch, mean_loss.result(), B_Ber_m(X_batch, y_pred)))\n",
    "        if plot_encoding:\n",
    "            test_encoding()"
   ]
  },
  {
   "cell_type": "code",
   "execution_count": 12,
   "metadata": {},
   "outputs": [],
   "source": [
    "def plot_batch_loss(epoch, mean_loss, X_batch, y_pred):\n",
    "        template_outer_loop = 'Interim result for Epoch: {}, Loss: {:.5f}, Batch_BER: {:.8f}'\n",
    "        print(template_outer_loop.format(epoch, mean_loss.result(), B_Ber_m(X_batch, y_pred)))"
   ]
  },
  {
   "cell_type": "code",
   "execution_count": 13,
   "metadata": {},
   "outputs": [],
   "source": [
    "def train_alternate( n_epochs=5, n_steps=20, batch_size=200, learning_rate=0.05, plot_encoding=False):\n",
    "    optimizer_ae = keras.optimizers.Nadam(lr=learning_rate)\n",
    "    mean_loss.reset_states()\n",
    "    for epoch in range(1, n_epochs + 1): \n",
    "        print(\"Training Bob in Epoch {}/{}\".format(epoch, n_epochs)) \n",
    "        for step in range(1, n_steps + 1):\n",
    "            X_batch  = random_sample(batch_size)\n",
    "            with tf.GradientTape() as tape:\n",
    "                x_enc = encoder(X_batch)\n",
    "                y_recv = channel(x_enc)\n",
    "                y_pred = decoder(y_recv, training=True)\n",
    "                loss_dec = loss_fn(X_batch, y_pred)\n",
    "            gradients = tape.gradient(loss_dec, decoder.trainable_variables) \n",
    "            optimizer_ae.apply_gradients(zip(gradients, decoder.trainable_variables))\n",
    "            #Draw another sample, as in the paper\n",
    "            X_batch  = random_sample(batch_size)\n",
    "            with tf.GradientTape() as tape:\n",
    "                x_enc = encoder(X_batch, training=True)\n",
    "                x_enc = shape_layer2(x_enc) #2*n\n",
    "                x_pert = perturbation(x_enc)\n",
    "                x_pert_s = shape_layer(x_pert)\n",
    "                y_recv = channel(x_pert_s)\n",
    "                y_pred = decoder(y_recv)\n",
    "                loss = loss_fn_pE(X_batch, y_pred)\n",
    "                #log already pulled inside the policy\n",
    "                #stop_gradient enforces that x_pert and loss are seen as plain samples\n",
    "                policy = policy_function(tf.stop_gradient(x_pert), x_enc)\n",
    "                temp = tf.stop_gradient(loss)*tf.cast(policy, tf.float32)\n",
    "                temp_avg = tf.reduce_mean(temp)\n",
    "                grad_total = tape.gradient(temp_avg, encoder.trainable_variables)\n",
    "                optimizer_ae.apply_gradients(zip(grad_total, encoder.trainable_variables))\n",
    "                loss_cr = tf.reduce_mean(loss)\n",
    "            mean_loss(loss_cr)\n",
    "            plot_loss(step, epoch, mean_loss, X_batch, y_pred, plot_encoding)\n",
    "        plot_batch_loss(epoch, mean_loss, X_batch, y_pred) \n",
    "        mean_loss.reset_states()"
   ]
  },
  {
   "cell_type": "code",
   "execution_count": 14,
   "metadata": {},
   "outputs": [],
   "source": [
    "def Test_AE():\n",
    "    '''Calculate Bit Error for varying SNRs'''\n",
    "    snr_range = np.linspace(0, 15, 31)\n",
    "    bber_vec = [None] * len(snr_range)\n",
    "        \n",
    "    for db in range(len(snr_range)):\n",
    "        for it in range(1,1000):\n",
    "            noise_std = EbNo_to_noise(snr_range[db])\n",
    "            X_batch  = random_sample(500)\n",
    "            code_word = encoder(X_batch)\n",
    "            rcvd_word = code_word + tf.random.normal(tf.shape(code_word), mean=0.0, stddev=noise_std)\n",
    "            dcoded_msg = decoder(rcvd_word)\n",
    "            bber = B_Ber_m(X_batch, dcoded_msg)\n",
    "            bber_avg = mean_loss(bber)\n",
    "        bber_vec[db] = bber_avg\n",
    "        mean_loss.reset_states()\n",
    "        if (db % 6 == 0) & (db > 0):\n",
    "            print(f'Progress: {db} of {30} parts')\n",
    "\n",
    "    return (snr_range, bber_vec)"
   ]
  },
  {
   "cell_type": "code",
   "execution_count": 15,
   "metadata": {},
   "outputs": [
    {
     "name": "stdout",
     "output_type": "stream",
     "text": [
      "Training Bob in Epoch 1/2\n",
      "Iteration: 10, Epoch: 1, Loss: 2.67962, Batch_BER: 0.79400003\n",
      "Iteration: 20, Epoch: 1, Loss: 2.55553, Batch_BER: 0.66600001\n",
      "Iteration: 30, Epoch: 1, Loss: 2.43203, Batch_BER: 0.64200002\n",
      "Iteration: 40, Epoch: 1, Loss: 2.30580, Batch_BER: 0.61799997\n",
      "Iteration: 50, Epoch: 1, Loss: 2.18748, Batch_BER: 0.44000000\n",
      "Iteration: 60, Epoch: 1, Loss: 2.07940, Batch_BER: 0.46000001\n",
      "Iteration: 70, Epoch: 1, Loss: 1.98402, Batch_BER: 0.40799999\n",
      "Iteration: 80, Epoch: 1, Loss: 1.90022, Batch_BER: 0.38200000\n",
      "Iteration: 90, Epoch: 1, Loss: 1.82596, Batch_BER: 0.29400000\n",
      "Iteration: 100, Epoch: 1, Loss: 1.75625, Batch_BER: 0.25000000\n",
      "Iteration: 110, Epoch: 1, Loss: 1.69157, Batch_BER: 0.24800000\n",
      "Iteration: 120, Epoch: 1, Loss: 1.63077, Batch_BER: 0.20000000\n",
      "Iteration: 130, Epoch: 1, Loss: 1.57382, Batch_BER: 0.23800001\n",
      "Iteration: 140, Epoch: 1, Loss: 1.52026, Batch_BER: 0.22600000\n",
      "Iteration: 150, Epoch: 1, Loss: 1.47057, Batch_BER: 0.19000000\n",
      "Iteration: 160, Epoch: 1, Loss: 1.42374, Batch_BER: 0.13600001\n",
      "Iteration: 170, Epoch: 1, Loss: 1.37990, Batch_BER: 0.14800000\n",
      "Iteration: 180, Epoch: 1, Loss: 1.33884, Batch_BER: 0.17000000\n",
      "Iteration: 190, Epoch: 1, Loss: 1.30081, Batch_BER: 0.15000001\n",
      "Iteration: 200, Epoch: 1, Loss: 1.26414, Batch_BER: 0.14200000\n",
      "Iteration: 210, Epoch: 1, Loss: 1.23043, Batch_BER: 0.14600000\n",
      "Iteration: 220, Epoch: 1, Loss: 1.19825, Batch_BER: 0.12000000\n",
      "Iteration: 230, Epoch: 1, Loss: 1.16798, Batch_BER: 0.14000000\n",
      "Iteration: 240, Epoch: 1, Loss: 1.13893, Batch_BER: 0.10400000\n",
      "Iteration: 250, Epoch: 1, Loss: 1.11159, Batch_BER: 0.13000000\n",
      "Iteration: 260, Epoch: 1, Loss: 1.08639, Batch_BER: 0.12600000\n",
      "Iteration: 270, Epoch: 1, Loss: 1.06239, Batch_BER: 0.13800000\n",
      "Iteration: 280, Epoch: 1, Loss: 1.03956, Batch_BER: 0.13400000\n",
      "Iteration: 290, Epoch: 1, Loss: 1.01793, Batch_BER: 0.15000001\n",
      "Iteration: 300, Epoch: 1, Loss: 0.99754, Batch_BER: 0.12800001\n",
      "Iteration: 310, Epoch: 1, Loss: 0.97807, Batch_BER: 0.16800000\n",
      "Iteration: 320, Epoch: 1, Loss: 0.95977, Batch_BER: 0.14200000\n",
      "Iteration: 330, Epoch: 1, Loss: 0.94246, Batch_BER: 0.10200000\n",
      "Iteration: 340, Epoch: 1, Loss: 0.92595, Batch_BER: 0.15600000\n",
      "Iteration: 350, Epoch: 1, Loss: 0.91013, Batch_BER: 0.10800000\n",
      "Iteration: 360, Epoch: 1, Loss: 0.89524, Batch_BER: 0.11200000\n",
      "Iteration: 370, Epoch: 1, Loss: 0.88076, Batch_BER: 0.11400000\n",
      "Iteration: 380, Epoch: 1, Loss: 0.86643, Batch_BER: 0.08600000\n",
      "Iteration: 390, Epoch: 1, Loss: 0.85361, Batch_BER: 0.12200000\n",
      "Iteration: 400, Epoch: 1, Loss: 0.84109, Batch_BER: 0.12200000\n",
      "Interim result for Epoch: 1, Loss: 0.84109, Batch_BER: 0.12200000\n",
      "Training Bob in Epoch 2/2\n",
      "Iteration: 10, Epoch: 2, Loss: 0.36083, Batch_BER: 0.12400000\n",
      "Iteration: 20, Epoch: 2, Loss: 0.35225, Batch_BER: 0.13800000\n",
      "Iteration: 30, Epoch: 2, Loss: 0.34875, Batch_BER: 0.11000000\n",
      "Iteration: 40, Epoch: 2, Loss: 0.34725, Batch_BER: 0.09400000\n",
      "Iteration: 50, Epoch: 2, Loss: 0.34590, Batch_BER: 0.11800000\n",
      "Iteration: 60, Epoch: 2, Loss: 0.34573, Batch_BER: 0.12000000\n",
      "Iteration: 70, Epoch: 2, Loss: 0.34489, Batch_BER: 0.12400000\n",
      "Iteration: 80, Epoch: 2, Loss: 0.34344, Batch_BER: 0.10200000\n",
      "Iteration: 90, Epoch: 2, Loss: 0.34287, Batch_BER: 0.11000000\n",
      "Iteration: 100, Epoch: 2, Loss: 0.34488, Batch_BER: 0.14000000\n",
      "Iteration: 110, Epoch: 2, Loss: 0.34343, Batch_BER: 0.11200000\n",
      "Iteration: 120, Epoch: 2, Loss: 0.34224, Batch_BER: 0.13000000\n",
      "Iteration: 130, Epoch: 2, Loss: 0.34248, Batch_BER: 0.12200000\n",
      "Iteration: 140, Epoch: 2, Loss: 0.34353, Batch_BER: 0.13800000\n",
      "Iteration: 150, Epoch: 2, Loss: 0.34257, Batch_BER: 0.13200000\n",
      "Iteration: 160, Epoch: 2, Loss: 0.34237, Batch_BER: 0.11800000\n",
      "Iteration: 170, Epoch: 2, Loss: 0.34198, Batch_BER: 0.14000000\n",
      "Iteration: 180, Epoch: 2, Loss: 0.34140, Batch_BER: 0.11600000\n",
      "Iteration: 190, Epoch: 2, Loss: 0.34006, Batch_BER: 0.12000000\n",
      "Iteration: 200, Epoch: 2, Loss: 0.33883, Batch_BER: 0.09400000\n",
      "Iteration: 210, Epoch: 2, Loss: 0.33811, Batch_BER: 0.13200000\n",
      "Iteration: 220, Epoch: 2, Loss: 0.33737, Batch_BER: 0.12000000\n",
      "Iteration: 230, Epoch: 2, Loss: 0.33676, Batch_BER: 0.13600001\n",
      "Iteration: 240, Epoch: 2, Loss: 0.33631, Batch_BER: 0.12400000\n",
      "Iteration: 250, Epoch: 2, Loss: 0.33646, Batch_BER: 0.13600001\n",
      "Iteration: 260, Epoch: 2, Loss: 0.33585, Batch_BER: 0.12400000\n",
      "Iteration: 270, Epoch: 2, Loss: 0.33507, Batch_BER: 0.12800001\n",
      "Iteration: 280, Epoch: 2, Loss: 0.33442, Batch_BER: 0.11000000\n",
      "Iteration: 290, Epoch: 2, Loss: 0.33411, Batch_BER: 0.11000000\n",
      "Iteration: 300, Epoch: 2, Loss: 0.33356, Batch_BER: 0.12000000\n",
      "Iteration: 310, Epoch: 2, Loss: 0.33382, Batch_BER: 0.10200000\n",
      "Iteration: 320, Epoch: 2, Loss: 0.33331, Batch_BER: 0.14399999\n",
      "Iteration: 330, Epoch: 2, Loss: 0.33269, Batch_BER: 0.11600000\n",
      "Iteration: 340, Epoch: 2, Loss: 0.33255, Batch_BER: 0.10800000\n",
      "Iteration: 350, Epoch: 2, Loss: 0.33252, Batch_BER: 0.11600000\n",
      "Iteration: 360, Epoch: 2, Loss: 0.33173, Batch_BER: 0.10200000\n",
      "Iteration: 370, Epoch: 2, Loss: 0.33122, Batch_BER: 0.12000000\n",
      "Iteration: 380, Epoch: 2, Loss: 0.33084, Batch_BER: 0.15200000\n",
      "Iteration: 390, Epoch: 2, Loss: 0.33056, Batch_BER: 0.11800000\n",
      "Iteration: 400, Epoch: 2, Loss: 0.33000, Batch_BER: 0.10400000\n",
      "Interim result for Epoch: 2, Loss: 0.33000, Batch_BER: 0.10400000\n"
     ]
    },
    {
     "data": {
      "image/png": "[encoded data removed]",
      "text/plain": [
       "<Figure size 288x288 with 1 Axes>"
      ]
     },
     "metadata": {
      "needs_background": "light"
     },
     "output_type": "display_data"
    },
    {
     "data": {
      "image/png": "[encoded data removed]",
      "text/plain": [
       "<Figure size 288x288 with 1 Axes>"
      ]
     },
     "metadata": {
      "needs_background": "light"
     },
     "output_type": "display_data"
    }
   ],
   "source": [
    "train_alternate(n_epochs=2, n_steps=400, batch_size=500, learning_rate=0.005,plot_encoding=False)\n",
    "\n",
    "test_encoding(M, 1)\n",
    "\n",
    "test_noisy_codeword(4000)"
   ]
  },
  {
   "cell_type": "code",
   "execution_count": 16,
   "metadata": {},
   "outputs": [
    {
     "name": "stdout",
     "output_type": "stream",
     "text": [
      "Progress: 6 of 30 parts\n",
      "Progress: 12 of 30 parts\n",
      "Progress: 18 of 30 parts\n",
      "Progress: 24 of 30 parts\n",
      "Progress: 30 of 30 parts\n"
     ]
    }
   ],
   "source": [
    "bber_data = Test_AE()"
   ]
  },
  {
   "cell_type": "code",
   "execution_count": 17,
   "metadata": {},
   "outputs": [
    {
     "data": {
      "image/png": "[encoded data removed]",
      "text/plain": [
       "<Figure size 576x360 with 1 Axes>"
      ]
     },
     "metadata": {
      "needs_background": "light"
     },
     "output_type": "display_data"
    }
   ],
   "source": [
    "# Approximate 16 QAM Error\n",
    "def SIXT_QAM_sim(ebno):\n",
    "    return (3.0/2)*special.erfc(np.sqrt((4.0/10)*10.**(ebno/10)))\n",
    "\n",
    "\n",
    "\n",
    "ebnodbs = np.linspace(0,15,16)\n",
    "fig = plt.figure(figsize=(8, 5))\n",
    "plt.semilogy(bber_data[0], bber_data[1], 'o-')\n",
    "\n",
    "plt.plot(ebnodbs, SIXT_QAM_sim(ebnodbs), 's-')\n",
    "    \n",
    "plt.gca().set_ylim(1e-5, 1)\n",
    "plt.gca().set_xlim(0, 15)\n",
    "plt.ylabel(\"Batch Symbol Error Rate\", fontsize=14, rotation=90)\n",
    "plt.xlabel(\"EbN0 [dB]\", fontsize=18)\n",
    "plt.legend(['AE with RL', '16QAM'],\n",
    "           prop={'size': 14}, loc='upper right');\n",
    "plt.grid(True, which=\"both\")"
   ]
  },
  {
   "cell_type": "code",
   "execution_count": null,
   "metadata": {},
   "outputs": [],
   "source": []
  }
 ],
 "metadata": {
  "kernelspec": {
   "display_name": "Python 3",
   "language": "python",
   "name": "python3"
  },
  "language_info": {
   "codemirror_mode": {
    "name": "ipython",
    "version": 3
   },
   "file_extension": ".py",
   "mimetype": "text/x-python",
   "name": "python",
   "nbconvert_exporter": "python",
   "pygments_lexer": "ipython3",
   "version": "3.7.6"
  }
 },
 "nbformat": 4,
 "nbformat_minor": 2
}
